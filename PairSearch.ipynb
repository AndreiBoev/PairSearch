{
 "cells": [
  {
   "cell_type": "code",
   "execution_count": 1,
   "id": "53915633",
   "metadata": {},
   "outputs": [],
   "source": [
    "import os\n",
    "os.environ ['SPARK_HOME'] = \"C:\\Spark\"\n",
    "os.environ ['PYSPARK_DRIVER_PYTHON'] = 'jupyter'\n",
    "os.environ ['PYSPARK_DRIVER_PYTHON_OPTS'] = 'lab'\n",
    "os. environ ['PYSPARK_PYTHON'] = 'python'"
   ]
  },
  {
   "cell_type": "code",
   "execution_count": 9,
   "id": "554699ea",
   "metadata": {},
   "outputs": [
    {
     "name": "stdout",
     "output_type": "stream",
     "text": [
      "+----------+------------+\n",
      "|product_id|product_name|\n",
      "+----------+------------+\n",
      "|         1|    Product1|\n",
      "|         2|    Product2|\n",
      "|         3|    Product3|\n",
      "+----------+------------+\n",
      "\n",
      "+-----------+-------------+\n",
      "|category_id|category_name|\n",
      "+-----------+-------------+\n",
      "|          1|    Category1|\n",
      "|          2|    Category2|\n",
      "|          3|    Category3|\n",
      "+-----------+-------------+\n",
      "\n",
      "+----------+-----------+\n",
      "|product_id|category_id|\n",
      "+----------+-----------+\n",
      "|         1|          1|\n",
      "|         1|          2|\n",
      "|         2|          2|\n",
      "+----------+-----------+\n",
      "\n",
      "+------------+-------------+\n",
      "|product_name|category_name|\n",
      "+------------+-------------+\n",
      "|    Product1|    Category1|\n",
      "|    Product2|    Category2|\n",
      "|    Product1|    Category2|\n",
      "+------------+-------------+\n",
      "\n",
      "+------------+\n",
      "|product_name|\n",
      "+------------+\n",
      "|    Product3|\n",
      "+------------+\n",
      "\n"
     ]
    }
   ],
   "source": [
    "from pyspark.sql import SparkSession\n",
    "from pyspark.sql.functions import col\n",
    "\n",
    "spark = SparkSession.builder.appName(\"ProductCategoryPairs\").getOrCreate()\n",
    "\n",
    "# Создаем датафреймы с начальными данными\n",
    "products = spark.createDataFrame([(1, \"Product1\"), (2, \"Product2\"), (3, \"Product3\")], [\"product_id\", \"product_name\"])\n",
    "categories = spark.createDataFrame([(1, \"Category1\"), (2, \"Category2\"), (3, \"Category3\")], [\"category_id\", \"category_name\"])\n",
    "category_product = spark.createDataFrame([(1, 1), (1, 2), (2, 2)], [\"product_id\", \"category_id\"])\n",
    "\n",
    "# Получаем все пары \"Имя продукта - Имя категории\"\n",
    "products_category = category_product.join(products, on=\"product_id\").join(categories, on=\"category_id\").select(\"product_name\", \"category_name\")\n",
    "\n",
    "# Получаем имена всех продуктов, у которых нет категорий\n",
    "products_no_category = products.join(product_category, on=\"product_id\", how=\"left_anti\").select(\"product_name\")\n",
    "\n",
    "products.show()\n",
    "categories.show()\n",
    "product_category.show()\n",
    "\n",
    "products_category.show()\n",
    "products_no_category.show()"
   ]
  },
  {
   "cell_type": "code",
   "execution_count": null,
   "id": "23bd6500",
   "metadata": {},
   "outputs": [],
   "source": []
  }
 ],
 "metadata": {
  "kernelspec": {
   "display_name": "Python 3 (ipykernel)",
   "language": "python",
   "name": "python3"
  },
  "language_info": {
   "codemirror_mode": {
    "name": "ipython",
    "version": 3
   },
   "file_extension": ".py",
   "mimetype": "text/x-python",
   "name": "python",
   "nbconvert_exporter": "python",
   "pygments_lexer": "ipython3",
   "version": "3.11.4"
  }
 },
 "nbformat": 4,
 "nbformat_minor": 5
}
